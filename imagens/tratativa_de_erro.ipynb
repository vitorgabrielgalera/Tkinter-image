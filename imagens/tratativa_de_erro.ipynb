{
 "cells": [
  {
   "cell_type": "code",
   "execution_count": 2,
   "metadata": {},
   "outputs": [
    {
     "name": "stdout",
     "output_type": "stream",
     "text": [
      "Hello Wolrd!\n"
     ]
    }
   ],
   "source": [
    "print(\"Hello Wolrd!\")"
   ]
  },
  {
   "cell_type": "code",
   "execution_count": 7,
   "metadata": {},
   "outputs": [],
   "source": [
    "nome = input(\"Digite seu nome: \")"
   ]
  },
  {
   "cell_type": "code",
   "execution_count": 14,
   "metadata": {},
   "outputs": [
    {
     "name": "stdout",
     "output_type": "stream",
     "text": [
      "Isso não é um número!\n",
      "invalid literal for int() with base 10: 'y'\n",
      "finally!!\n"
     ]
    }
   ],
   "source": [
    "try:\n",
    "    numero_int = int(input(\"Digite um número inteiro: \"))\n",
    "except Exception as e:\n",
    "    print(\"Isso não é um número!\")\n",
    "    print(e)\n",
    "else:\n",
    "    print(numero_int)\n",
    "finally:\n",
    "    print(\"finally!!\")"
   ]
  }
 ],
 "metadata": {
  "kernelspec": {
   "display_name": "venv",
   "language": "python",
   "name": "python3"
  },
  "language_info": {
   "codemirror_mode": {
    "name": "ipython",
    "version": 3
   },
   "file_extension": ".py",
   "mimetype": "text/x-python",
   "name": "python",
   "nbconvert_exporter": "python",
   "pygments_lexer": "ipython3",
   "version": "3.10.11"
  }
 },
 "nbformat": 4,
 "nbformat_minor": 2
}
